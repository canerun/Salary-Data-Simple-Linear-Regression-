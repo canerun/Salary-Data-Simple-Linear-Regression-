{
 "cells": [
  {
   "cell_type": "code",
   "execution_count": 56,
   "id": "c185f715",
   "metadata": {
    "execution": {
     "iopub.execute_input": "2022-08-07T13:51:13.001653Z",
     "iopub.status.busy": "2022-08-07T13:51:13.000884Z",
     "iopub.status.idle": "2022-08-07T13:51:14.363316Z",
     "shell.execute_reply": "2022-08-07T13:51:14.361894Z"
    },
    "papermill": {
     "duration": 1.375967,
     "end_time": "2022-08-07T13:51:14.366494",
     "exception": false,
     "start_time": "2022-08-07T13:51:12.990527",
     "status": "completed"
    },
    "tags": []
   },
   "outputs": [],
   "source": [
    "## lİBRARY \n",
    "import pandas as pd\n",
    "import numpy as np\n",
    "import matplotlib.pyplot as plt\n",
    "import seaborn as sns\n",
    "%matplotlib inline\n",
    "import warnings\n",
    "warnings.filterwarnings('ignore')\n",
    "from sklearn import metrics\n",
    "import matplotlib.cm as cm"
   ]
  },
  {
   "cell_type": "code",
   "execution_count": 57,
   "id": "f031233c",
   "metadata": {
    "execution": {
     "iopub.execute_input": "2022-08-07T13:51:14.382577Z",
     "iopub.status.busy": "2022-08-07T13:51:14.382197Z",
     "iopub.status.idle": "2022-08-07T13:51:14.401601Z",
     "shell.execute_reply": "2022-08-07T13:51:14.400626Z"
    },
    "papermill": {
     "duration": 0.030321,
     "end_time": "2022-08-07T13:51:14.404103",
     "exception": false,
     "start_time": "2022-08-07T13:51:14.373782",
     "status": "completed"
    },
    "tags": []
   },
   "outputs": [],
   "source": [
    "## DATA IMPORT\n",
    "data1=pd.read_csv('C:/Users/caner.un/Desktop/caner/datalar/archive/Salary_Data.csv')\n",
    "x=data1.iloc[:,:-1].values\n",
    "y=data1.iloc[:,1].values"
   ]
  },
  {
   "cell_type": "code",
   "execution_count": 58,
   "id": "873de1fe",
   "metadata": {
    "execution": {
     "iopub.execute_input": "2022-08-07T13:51:14.420391Z",
     "iopub.status.busy": "2022-08-07T13:51:14.419607Z",
     "iopub.status.idle": "2022-08-07T13:51:14.428671Z",
     "shell.execute_reply": "2022-08-07T13:51:14.427869Z"
    },
    "papermill": {
     "duration": 0.019659,
     "end_time": "2022-08-07T13:51:14.430804",
     "exception": false,
     "start_time": "2022-08-07T13:51:14.411145",
     "status": "completed"
    },
    "tags": []
   },
   "outputs": [
    {
     "data": {
      "text/plain": [
       "array([[ 1.1],\n",
       "       [ 1.3],\n",
       "       [ 1.5],\n",
       "       [ 2. ],\n",
       "       [ 2.2],\n",
       "       [ 2.9],\n",
       "       [ 3. ],\n",
       "       [ 3.2],\n",
       "       [ 3.2],\n",
       "       [ 3.7],\n",
       "       [ 3.9],\n",
       "       [ 4. ],\n",
       "       [ 4. ],\n",
       "       [ 4.1],\n",
       "       [ 4.5],\n",
       "       [ 4.9],\n",
       "       [ 5.1],\n",
       "       [ 5.3],\n",
       "       [ 5.9],\n",
       "       [ 6. ],\n",
       "       [ 6.8],\n",
       "       [ 7.1],\n",
       "       [ 7.9],\n",
       "       [ 8.2],\n",
       "       [ 8.7],\n",
       "       [ 9. ],\n",
       "       [ 9.5],\n",
       "       [ 9.6],\n",
       "       [10.3],\n",
       "       [10.5]])"
      ]
     },
     "execution_count": 58,
     "metadata": {},
     "output_type": "execute_result"
    }
   ],
   "source": [
    "x"
   ]
  },
  {
   "cell_type": "code",
   "execution_count": 59,
   "id": "78ec2bc3",
   "metadata": {
    "execution": {
     "iopub.execute_input": "2022-08-07T13:51:14.446937Z",
     "iopub.status.busy": "2022-08-07T13:51:14.446512Z",
     "iopub.status.idle": "2022-08-07T13:51:14.452559Z",
     "shell.execute_reply": "2022-08-07T13:51:14.451849Z"
    },
    "papermill": {
     "duration": 0.016681,
     "end_time": "2022-08-07T13:51:14.454640",
     "exception": false,
     "start_time": "2022-08-07T13:51:14.437959",
     "status": "completed"
    },
    "tags": []
   },
   "outputs": [
    {
     "data": {
      "text/plain": [
       "array([ 39343.,  46205.,  37731.,  43525.,  39891.,  56642.,  60150.,\n",
       "        54445.,  64445.,  57189.,  63218.,  55794.,  56957.,  57081.,\n",
       "        61111.,  67938.,  66029.,  83088.,  81363.,  93940.,  91738.,\n",
       "        98273., 101302., 113812., 109431., 105582., 116969., 112635.,\n",
       "       122391., 121872.])"
      ]
     },
     "execution_count": 59,
     "metadata": {},
     "output_type": "execute_result"
    }
   ],
   "source": [
    "y"
   ]
  },
  {
   "cell_type": "code",
   "execution_count": 60,
   "id": "d8799aff",
   "metadata": {
    "execution": {
     "iopub.execute_input": "2022-08-07T13:51:14.470857Z",
     "iopub.status.busy": "2022-08-07T13:51:14.470181Z",
     "iopub.status.idle": "2022-08-07T13:51:14.486299Z",
     "shell.execute_reply": "2022-08-07T13:51:14.485001Z"
    },
    "papermill": {
     "duration": 0.026912,
     "end_time": "2022-08-07T13:51:14.488638",
     "exception": false,
     "start_time": "2022-08-07T13:51:14.461726",
     "status": "completed"
    },
    "tags": []
   },
   "outputs": [
    {
     "data": {
      "text/html": [
       "<div>\n",
       "<style scoped>\n",
       "    .dataframe tbody tr th:only-of-type {\n",
       "        vertical-align: middle;\n",
       "    }\n",
       "\n",
       "    .dataframe tbody tr th {\n",
       "        vertical-align: top;\n",
       "    }\n",
       "\n",
       "    .dataframe thead th {\n",
       "        text-align: right;\n",
       "    }\n",
       "</style>\n",
       "<table border=\"1\" class=\"dataframe\">\n",
       "  <thead>\n",
       "    <tr style=\"text-align: right;\">\n",
       "      <th></th>\n",
       "      <th>YearsExperience</th>\n",
       "      <th>Salary</th>\n",
       "    </tr>\n",
       "  </thead>\n",
       "  <tbody>\n",
       "    <tr>\n",
       "      <th>0</th>\n",
       "      <td>1.1</td>\n",
       "      <td>39343.0</td>\n",
       "    </tr>\n",
       "    <tr>\n",
       "      <th>1</th>\n",
       "      <td>1.3</td>\n",
       "      <td>46205.0</td>\n",
       "    </tr>\n",
       "    <tr>\n",
       "      <th>2</th>\n",
       "      <td>1.5</td>\n",
       "      <td>37731.0</td>\n",
       "    </tr>\n",
       "    <tr>\n",
       "      <th>3</th>\n",
       "      <td>2.0</td>\n",
       "      <td>43525.0</td>\n",
       "    </tr>\n",
       "    <tr>\n",
       "      <th>4</th>\n",
       "      <td>2.2</td>\n",
       "      <td>39891.0</td>\n",
       "    </tr>\n",
       "  </tbody>\n",
       "</table>\n",
       "</div>"
      ],
      "text/plain": [
       "   YearsExperience   Salary\n",
       "0              1.1  39343.0\n",
       "1              1.3  46205.0\n",
       "2              1.5  37731.0\n",
       "3              2.0  43525.0\n",
       "4              2.2  39891.0"
      ]
     },
     "execution_count": 60,
     "metadata": {},
     "output_type": "execute_result"
    }
   ],
   "source": [
    "data1.head()"
   ]
  },
  {
   "cell_type": "code",
   "execution_count": 61,
   "id": "76d2d34e",
   "metadata": {
    "execution": {
     "iopub.execute_input": "2022-08-07T13:51:14.505990Z",
     "iopub.status.busy": "2022-08-07T13:51:14.505568Z",
     "iopub.status.idle": "2022-08-07T13:51:14.536007Z",
     "shell.execute_reply": "2022-08-07T13:51:14.534861Z"
    },
    "papermill": {
     "duration": 0.042102,
     "end_time": "2022-08-07T13:51:14.538514",
     "exception": false,
     "start_time": "2022-08-07T13:51:14.496412",
     "status": "completed"
    },
    "tags": []
   },
   "outputs": [
    {
     "data": {
      "text/html": [
       "<div>\n",
       "<style scoped>\n",
       "    .dataframe tbody tr th:only-of-type {\n",
       "        vertical-align: middle;\n",
       "    }\n",
       "\n",
       "    .dataframe tbody tr th {\n",
       "        vertical-align: top;\n",
       "    }\n",
       "\n",
       "    .dataframe thead th {\n",
       "        text-align: right;\n",
       "    }\n",
       "</style>\n",
       "<table border=\"1\" class=\"dataframe\">\n",
       "  <thead>\n",
       "    <tr style=\"text-align: right;\">\n",
       "      <th></th>\n",
       "      <th>YearsExperience</th>\n",
       "      <th>Salary</th>\n",
       "    </tr>\n",
       "  </thead>\n",
       "  <tbody>\n",
       "    <tr>\n",
       "      <th>count</th>\n",
       "      <td>30.000000</td>\n",
       "      <td>30.000000</td>\n",
       "    </tr>\n",
       "    <tr>\n",
       "      <th>mean</th>\n",
       "      <td>5.313333</td>\n",
       "      <td>76003.000000</td>\n",
       "    </tr>\n",
       "    <tr>\n",
       "      <th>std</th>\n",
       "      <td>2.837888</td>\n",
       "      <td>27414.429785</td>\n",
       "    </tr>\n",
       "    <tr>\n",
       "      <th>min</th>\n",
       "      <td>1.100000</td>\n",
       "      <td>37731.000000</td>\n",
       "    </tr>\n",
       "    <tr>\n",
       "      <th>25%</th>\n",
       "      <td>3.200000</td>\n",
       "      <td>56720.750000</td>\n",
       "    </tr>\n",
       "    <tr>\n",
       "      <th>50%</th>\n",
       "      <td>4.700000</td>\n",
       "      <td>65237.000000</td>\n",
       "    </tr>\n",
       "    <tr>\n",
       "      <th>75%</th>\n",
       "      <td>7.700000</td>\n",
       "      <td>100544.750000</td>\n",
       "    </tr>\n",
       "    <tr>\n",
       "      <th>max</th>\n",
       "      <td>10.500000</td>\n",
       "      <td>122391.000000</td>\n",
       "    </tr>\n",
       "  </tbody>\n",
       "</table>\n",
       "</div>"
      ],
      "text/plain": [
       "       YearsExperience         Salary\n",
       "count        30.000000      30.000000\n",
       "mean          5.313333   76003.000000\n",
       "std           2.837888   27414.429785\n",
       "min           1.100000   37731.000000\n",
       "25%           3.200000   56720.750000\n",
       "50%           4.700000   65237.000000\n",
       "75%           7.700000  100544.750000\n",
       "max          10.500000  122391.000000"
      ]
     },
     "execution_count": 61,
     "metadata": {},
     "output_type": "execute_result"
    }
   ],
   "source": [
    "## STATISTIC DESCRIBE \n",
    "data1.describe()"
   ]
  },
  {
   "cell_type": "code",
   "execution_count": 62,
   "id": "de25dadb",
   "metadata": {
    "execution": {
     "iopub.execute_input": "2022-08-07T13:51:14.556082Z",
     "iopub.status.busy": "2022-08-07T13:51:14.555338Z",
     "iopub.status.idle": "2022-08-07T13:51:14.564756Z",
     "shell.execute_reply": "2022-08-07T13:51:14.563718Z"
    },
    "papermill": {
     "duration": 0.021416,
     "end_time": "2022-08-07T13:51:14.567536",
     "exception": false,
     "start_time": "2022-08-07T13:51:14.546120",
     "status": "completed"
    },
    "tags": []
   },
   "outputs": [
    {
     "name": "stdout",
     "output_type": "stream",
     "text": [
      "1er quartile: 3.2\n",
      "2er quartile: 4.7\n",
      "3er quartile: 7.7\n"
     ]
    }
   ],
   "source": [
    "## other method to calculate quartile\n",
    "print('1er quartile:',data1['YearsExperience'].quantile(0.25))\n",
    "print('2er quartile:',data1['YearsExperience'].quantile(0.5))\n",
    "print('3er quartile:',data1['YearsExperience'].quantile(0.75))"
   ]
  },
  {
   "cell_type": "code",
   "execution_count": 63,
   "id": "9a23e6ad",
   "metadata": {
    "execution": {
     "iopub.execute_input": "2022-08-07T13:51:14.585618Z",
     "iopub.status.busy": "2022-08-07T13:51:14.585002Z",
     "iopub.status.idle": "2022-08-07T13:51:14.595558Z",
     "shell.execute_reply": "2022-08-07T13:51:14.594806Z"
    },
    "papermill": {
     "duration": 0.021625,
     "end_time": "2022-08-07T13:51:14.597630",
     "exception": false,
     "start_time": "2022-08-07T13:51:14.576005",
     "status": "completed"
    },
    "tags": []
   },
   "outputs": [
    {
     "data": {
      "text/plain": [
       "3.2     2\n",
       "4.0     2\n",
       "1.1     1\n",
       "5.3     1\n",
       "10.3    1\n",
       "9.6     1\n",
       "9.5     1\n",
       "9.0     1\n",
       "8.7     1\n",
       "8.2     1\n",
       "7.9     1\n",
       "7.1     1\n",
       "6.8     1\n",
       "6.0     1\n",
       "5.9     1\n",
       "5.1     1\n",
       "1.3     1\n",
       "4.9     1\n",
       "4.5     1\n",
       "4.1     1\n",
       "3.9     1\n",
       "3.7     1\n",
       "3.0     1\n",
       "2.9     1\n",
       "2.2     1\n",
       "2.0     1\n",
       "1.5     1\n",
       "10.5    1\n",
       "Name: YearsExperience, dtype: int64"
      ]
     },
     "execution_count": 63,
     "metadata": {},
     "output_type": "execute_result"
    }
   ],
   "source": [
    "# Frequency distribution of the YearsExperience variable\n",
    "data1['YearsExperience'].value_counts()"
   ]
  },
  {
   "cell_type": "markdown",
   "id": "02c01fb8",
   "metadata": {
    "papermill": {
     "duration": 0.007396,
     "end_time": "2022-08-07T13:51:14.612740",
     "exception": false,
     "start_time": "2022-08-07T13:51:14.605344",
     "status": "completed"
    },
    "tags": []
   },
   "source": [
    "# histogram"
   ]
  },
  {
   "cell_type": "code",
   "execution_count": 65,
   "id": "ebd5cd6d",
   "metadata": {
    "execution": {
     "iopub.execute_input": "2022-08-07T13:51:14.630932Z",
     "iopub.status.busy": "2022-08-07T13:51:14.630331Z",
     "iopub.status.idle": "2022-08-07T13:51:14.877148Z",
     "shell.execute_reply": "2022-08-07T13:51:14.876036Z"
    },
    "papermill": {
     "duration": 0.258323,
     "end_time": "2022-08-07T13:51:14.879508",
     "exception": false,
     "start_time": "2022-08-07T13:51:14.621185",
     "status": "completed"
    },
    "tags": []
   },
   "outputs": [
    {
     "data": {
      "text/plain": [
       "Text(0.5, 1.0, 'data1 histogram')"
      ]
     },
     "execution_count": 65,
     "metadata": {},
     "output_type": "execute_result"
    },
    {
     "data": {
      "image/png": "[encoded data removed]",
      "text/plain": [
       "<Figure size 432x288 with 1 Axes>"
      ]
     },
     "metadata": {
      "needs_background": "light"
     },
     "output_type": "display_data"
    }
   ],
   "source": [
    "sns.distplot(kaiss['YearsExperience'],kde=False,bins=15).set_title('data1 histogram')"
   ]
  },
  {
   "cell_type": "markdown",
   "id": "55d8bcea",
   "metadata": {
    "papermill": {
     "duration": 0.007794,
     "end_time": "2022-08-07T13:51:14.896193",
     "exception": false,
     "start_time": "2022-08-07T13:51:14.888399",
     "status": "completed"
    },
    "tags": []
   },
   "source": [
    "# probability density"
   ]
  },
  {
   "cell_type": "code",
   "execution_count": 66,
   "id": "df97e025",
   "metadata": {
    "execution": {
     "iopub.execute_input": "2022-08-07T13:51:14.915036Z",
     "iopub.status.busy": "2022-08-07T13:51:14.914391Z",
     "iopub.status.idle": "2022-08-07T13:51:15.144097Z",
     "shell.execute_reply": "2022-08-07T13:51:15.143301Z"
    },
    "papermill": {
     "duration": 0.241628,
     "end_time": "2022-08-07T13:51:15.146443",
     "exception": false,
     "start_time": "2022-08-07T13:51:14.904815",
     "status": "completed"
    },
    "tags": []
   },
   "outputs": [
    {
     "data": {
      "text/plain": [
       "Text(0.5, 1.0, 'data1 density ')"
      ]
     },
     "execution_count": 66,
     "metadata": {},
     "output_type": "execute_result"
    },
    {
     "data": {
      "image/png": "[encoded data removed]",
      "text/plain": [
       "<Figure size 432x288 with 1 Axes>"
      ]
     },
     "metadata": {
      "needs_background": "light"
     },
     "output_type": "display_data"
    }
   ],
   "source": [
    "sns.distplot(data1['YearsExperience'],hist=False,bins=20).set_title('data1 density ')"
   ]
  },
  {
   "cell_type": "markdown",
   "id": "4ead63d5",
   "metadata": {
    "papermill": {
     "duration": 0.008468,
     "end_time": "2022-08-07T13:51:15.164539",
     "exception": false,
     "start_time": "2022-08-07T13:51:15.156071",
     "status": "completed"
    },
    "tags": []
   },
   "source": [
    "# histogram and probability density"
   ]
  },
  {
   "cell_type": "code",
   "execution_count": 67,
   "id": "80be9be3",
   "metadata": {
    "execution": {
     "iopub.execute_input": "2022-08-07T13:51:15.185370Z",
     "iopub.status.busy": "2022-08-07T13:51:15.184298Z",
     "iopub.status.idle": "2022-08-07T13:51:15.414825Z",
     "shell.execute_reply": "2022-08-07T13:51:15.413671Z"
    },
    "papermill": {
     "duration": 0.243134,
     "end_time": "2022-08-07T13:51:15.417319",
     "exception": false,
     "start_time": "2022-08-07T13:51:15.174185",
     "status": "completed"
    },
    "tags": []
   },
   "outputs": [
    {
     "data": {
      "text/plain": [
       "Text(0.5, 1.0, 'data1')"
      ]
     },
     "execution_count": 67,
     "metadata": {},
     "output_type": "execute_result"
    },
    {
     "data": {
      "image/png": "[encoded data removed]",
      "text/plain": [
       "<Figure size 432x288 with 1 Axes>"
      ]
     },
     "metadata": {
      "needs_background": "light"
     },
     "output_type": "display_data"
    }
   ],
   "source": [
    "sns.distplot(data1['YearsExperience']).set_title('data1')"
   ]
  },
  {
   "cell_type": "markdown",
   "id": "201412db",
   "metadata": {
    "papermill": {
     "duration": 0.008862,
     "end_time": "2022-08-07T13:51:15.435362",
     "exception": false,
     "start_time": "2022-08-07T13:51:15.426500",
     "status": "completed"
    },
    "tags": []
   },
   "source": [
    "# boxplot"
   ]
  },
  {
   "cell_type": "code",
   "execution_count": 68,
   "id": "65fb21d9",
   "metadata": {
    "execution": {
     "iopub.execute_input": "2022-08-07T13:51:15.455925Z",
     "iopub.status.busy": "2022-08-07T13:51:15.455152Z",
     "iopub.status.idle": "2022-08-07T13:51:15.623403Z",
     "shell.execute_reply": "2022-08-07T13:51:15.622293Z"
    },
    "papermill": {
     "duration": 0.181349,
     "end_time": "2022-08-07T13:51:15.625955",
     "exception": false,
     "start_time": "2022-08-07T13:51:15.444606",
     "status": "completed"
    },
    "tags": []
   },
   "outputs": [
    {
     "data": {
      "text/plain": [
       "Text(0.5, 1.0, 'data1')"
      ]
     },
     "execution_count": 68,
     "metadata": {},
     "output_type": "execute_result"
    },
    {
     "data": {
      "image/png": "[encoded data removed]",
      "text/plain": [
       "<Figure size 432x288 with 1 Axes>"
      ]
     },
     "metadata": {
      "needs_background": "light"
     },
     "output_type": "display_data"
    }
   ],
   "source": [
    "sns.boxplot(data1['YearsExperience']).set_title('data1')"
   ]
  },
  {
   "cell_type": "code",
   "execution_count": 69,
   "id": "35ed2305",
   "metadata": {
    "execution": {
     "iopub.execute_input": "2022-08-07T13:51:15.646557Z",
     "iopub.status.busy": "2022-08-07T13:51:15.646148Z",
     "iopub.status.idle": "2022-08-07T13:51:15.845587Z",
     "shell.execute_reply": "2022-08-07T13:51:15.844420Z"
    },
    "papermill": {
     "duration": 0.212747,
     "end_time": "2022-08-07T13:51:15.848116",
     "exception": false,
     "start_time": "2022-08-07T13:51:15.635369",
     "status": "completed"
    },
    "tags": []
   },
   "outputs": [
    {
     "data": {
      "text/plain": [
       "Text(0.5, 1.0, 'data1')"
      ]
     },
     "execution_count": 69,
     "metadata": {},
     "output_type": "execute_result"
    },
    {
     "data": {
      "image/png": "[encoded data removed]",
      "text/plain": [
       "<Figure size 432x288 with 1 Axes>"
      ]
     },
     "metadata": {
      "needs_background": "light"
     },
     "output_type": "display_data"
    }
   ],
   "source": [
    "sns.violinplot(y=data1['YearsExperience']).set_title('data1')"
   ]
  },
  {
   "cell_type": "code",
   "execution_count": 70,
   "id": "802a1859",
   "metadata": {
    "execution": {
     "iopub.execute_input": "2022-08-07T13:51:15.870147Z",
     "iopub.status.busy": "2022-08-07T13:51:15.869736Z",
     "iopub.status.idle": "2022-08-07T13:51:16.200409Z",
     "shell.execute_reply": "2022-08-07T13:51:16.198989Z"
    },
    "papermill": {
     "duration": 0.344892,
     "end_time": "2022-08-07T13:51:16.203004",
     "exception": false,
     "start_time": "2022-08-07T13:51:15.858112",
     "status": "completed"
    },
    "tags": []
   },
   "outputs": [
    {
     "data": {
      "text/plain": [
       "<Figure size 864x432 with 0 Axes>"
      ]
     },
     "metadata": {},
     "output_type": "display_data"
    },
    {
     "data": {
      "image/png": "[encoded data removed]",
      "text/plain": [
       "<Figure size 504x504 with 1 Axes>"
      ]
     },
     "metadata": {
      "needs_background": "light"
     },
     "output_type": "display_data"
    }
   ],
   "source": [
    "# These Plots help to explain the values and how they are scattered\n",
    "\n",
    "plt.figure(figsize=(12,6))\n",
    "sns.pairplot(data1,x_vars=['YearsExperience'],y_vars=['Salary'],size=7,kind='scatter')\n",
    "plt.xlabel('Years')\n",
    "plt.ylabel('Salary')\n",
    "plt.title('Salary Prediction')\n",
    "plt.show()"
   ]
  },
  {
   "cell_type": "code",
   "execution_count": 44,
   "id": "3d689459",
   "metadata": {
    "execution": {
     "iopub.execute_input": "2022-08-07T13:51:16.226292Z",
     "iopub.status.busy": "2022-08-07T13:51:16.225916Z",
     "iopub.status.idle": "2022-08-07T13:51:16.245785Z",
     "shell.execute_reply": "2022-08-07T13:51:16.244474Z"
    },
    "papermill": {
     "duration": 0.034535,
     "end_time": "2022-08-07T13:51:16.248539",
     "exception": false,
     "start_time": "2022-08-07T13:51:16.214004",
     "status": "completed"
    },
    "tags": []
   },
   "outputs": [],
   "source": [
    "##### training data or currency data\n",
    "from sklearn.model_selection import train_test_split\n",
    "x_train,x_test,y_train,y_test=train_test_split(x,y,test_size=0.2,random_state=0)"
   ]
  },
  {
   "cell_type": "code",
   "execution_count": 71,
   "id": "c9a54f10",
   "metadata": {
    "execution": {
     "iopub.execute_input": "2022-08-07T13:51:16.272111Z",
     "iopub.status.busy": "2022-08-07T13:51:16.271122Z",
     "iopub.status.idle": "2022-08-07T13:51:16.368847Z",
     "shell.execute_reply": "2022-08-07T13:51:16.367552Z"
    },
    "papermill": {
     "duration": 0.112418,
     "end_time": "2022-08-07T13:51:16.371483",
     "exception": false,
     "start_time": "2022-08-07T13:51:16.259065",
     "status": "completed"
    },
    "tags": []
   },
   "outputs": [
    {
     "data": {
      "text/plain": [
       "LinearRegression()"
      ]
     },
     "execution_count": 71,
     "metadata": {},
     "output_type": "execute_result"
    }
   ],
   "source": [
    "#### creative model\n",
    "from sklearn.linear_model import LinearRegression\n",
    "regressor=LinearRegression()\n",
    "regressor.fit(x_train,y_train)\n"
   ]
  },
  {
   "cell_type": "code",
   "execution_count": 72,
   "id": "2c6e8439",
   "metadata": {
    "execution": {
     "iopub.execute_input": "2022-08-07T13:51:16.395011Z",
     "iopub.status.busy": "2022-08-07T13:51:16.394472Z",
     "iopub.status.idle": "2022-08-07T13:51:16.400885Z",
     "shell.execute_reply": "2022-08-07T13:51:16.399691Z"
    },
    "papermill": {
     "duration": 0.02097,
     "end_time": "2022-08-07T13:51:16.403078",
     "exception": false,
     "start_time": "2022-08-07T13:51:16.382108",
     "status": "completed"
    },
    "tags": []
   },
   "outputs": [],
   "source": [
    "### prediction\n",
    "y_pred=regressor.predict(x_test)\n",
    "y_pred_train=regressor.predict(x_train)"
   ]
  },
  {
   "cell_type": "code",
   "execution_count": 73,
   "id": "92596306",
   "metadata": {
    "execution": {
     "iopub.execute_input": "2022-08-07T13:51:16.425720Z",
     "iopub.status.busy": "2022-08-07T13:51:16.425233Z",
     "iopub.status.idle": "2022-08-07T13:51:16.433125Z",
     "shell.execute_reply": "2022-08-07T13:51:16.431934Z"
    },
    "papermill": {
     "duration": 0.021961,
     "end_time": "2022-08-07T13:51:16.435518",
     "exception": false,
     "start_time": "2022-08-07T13:51:16.413557",
     "status": "completed"
    },
    "tags": []
   },
   "outputs": [
    {
     "data": {
      "text/plain": [
       "array([ 40748.96184072, 122699.62295594,  64961.65717022,  63099.14214487,\n",
       "       115249.56285456, 107799.50275317])"
      ]
     },
     "execution_count": 73,
     "metadata": {},
     "output_type": "execute_result"
    }
   ],
   "source": [
    "y_pred"
   ]
  },
  {
   "cell_type": "code",
   "execution_count": 74,
   "id": "8c2d3637",
   "metadata": {
    "execution": {
     "iopub.execute_input": "2022-08-07T13:51:16.459158Z",
     "iopub.status.busy": "2022-08-07T13:51:16.457934Z",
     "iopub.status.idle": "2022-08-07T13:51:16.465197Z",
     "shell.execute_reply": "2022-08-07T13:51:16.464322Z"
    },
    "papermill": {
     "duration": 0.02115,
     "end_time": "2022-08-07T13:51:16.467299",
     "exception": false,
     "start_time": "2022-08-07T13:51:16.446149",
     "status": "completed"
    },
    "tags": []
   },
   "outputs": [
    {
     "data": {
      "text/plain": [
       "array([ 37731., 122391.,  57081.,  63218., 116969., 109431.])"
      ]
     },
     "execution_count": 74,
     "metadata": {},
     "output_type": "execute_result"
    }
   ],
   "source": [
    "y_test"
   ]
  },
  {
   "cell_type": "code",
   "execution_count": 75,
   "id": "a1b2e0da",
   "metadata": {
    "execution": {
     "iopub.execute_input": "2022-08-07T13:51:16.490592Z",
     "iopub.status.busy": "2022-08-07T13:51:16.490217Z",
     "iopub.status.idle": "2022-08-07T13:51:16.690495Z",
     "shell.execute_reply": "2022-08-07T13:51:16.689374Z"
    },
    "papermill": {
     "duration": 0.214888,
     "end_time": "2022-08-07T13:51:16.692994",
     "exception": false,
     "start_time": "2022-08-07T13:51:16.478106",
     "status": "completed"
    },
    "tags": []
   },
   "outputs": [
    {
     "data": {
      "image/png": "[encoded data removed]",
      "text/plain": [
       "<Figure size 432x288 with 1 Axes>"
      ]
     },
     "metadata": {
      "needs_background": "light"
     },
     "output_type": "display_data"
    }
   ],
   "source": [
    "# Plotting the actual and predicted values\n",
    "\n",
    "c = [i for i in range (1,len(y_test)+1,1)]\n",
    "plt.plot(c,y_test,color='r',linestyle='-')\n",
    "plt.plot(c,y_pred,color='b',linestyle='-')\n",
    "plt.xlabel('Salary')\n",
    "plt.ylabel('index')\n",
    "plt.title('Prediction')\n",
    "plt.show()"
   ]
  },
  {
   "cell_type": "code",
   "execution_count": 76,
   "id": "10482369",
   "metadata": {
    "execution": {
     "iopub.execute_input": "2022-08-07T13:51:16.716640Z",
     "iopub.status.busy": "2022-08-07T13:51:16.716248Z",
     "iopub.status.idle": "2022-08-07T13:51:16.911384Z",
     "shell.execute_reply": "2022-08-07T13:51:16.910293Z"
    },
    "papermill": {
     "duration": 0.209748,
     "end_time": "2022-08-07T13:51:16.913891",
     "exception": false,
     "start_time": "2022-08-07T13:51:16.704143",
     "status": "completed"
    },
    "tags": []
   },
   "outputs": [
    {
     "data": {
      "image/png": "[encoded data removed]",
      "text/plain": [
       "<Figure size 432x288 with 1 Axes>"
      ]
     },
     "metadata": {
      "needs_background": "light"
     },
     "output_type": "display_data"
    }
   ],
   "source": [
    "# plotting the error\n",
    "c = [i for i in range(1,len(y_test)+1,1)]\n",
    "plt.plot(c,y_test-y_pred,color='green',linestyle='-')\n",
    "plt.xlabel('index')\n",
    "plt.ylabel('Error')\n",
    "plt.title('Error Value')\n",
    "plt.show()"
   ]
  },
  {
   "cell_type": "code",
   "execution_count": 77,
   "id": "d19a9358",
   "metadata": {
    "execution": {
     "iopub.execute_input": "2022-08-07T13:51:16.938962Z",
     "iopub.status.busy": "2022-08-07T13:51:16.937679Z",
     "iopub.status.idle": "2022-08-07T13:51:16.946169Z",
     "shell.execute_reply": "2022-08-07T13:51:16.944967Z"
    },
    "papermill": {
     "duration": 0.023327,
     "end_time": "2022-08-07T13:51:16.948557",
     "exception": false,
     "start_time": "2022-08-07T13:51:16.925230",
     "status": "completed"
    },
    "tags": []
   },
   "outputs": [
    {
     "data": {
      "text/plain": [
       "{'fit_intercept': True,\n",
       " 'normalize': 'deprecated',\n",
       " 'copy_X': True,\n",
       " 'n_jobs': None,\n",
       " 'positive': False,\n",
       " 'n_features_in_': 1,\n",
       " 'coef_': array([9312.57512673]),\n",
       " '_residues': 867592082.8358716,\n",
       " 'rank_': 1,\n",
       " 'singular_': array([12.65378731]),\n",
       " 'intercept_': 26780.099150628186}"
      ]
     },
     "execution_count": 77,
     "metadata": {},
     "output_type": "execute_result"
    }
   ],
   "source": [
    "regressor.__dict__"
   ]
  },
  {
   "cell_type": "code",
   "execution_count": 78,
   "id": "d95fc1cd",
   "metadata": {
    "execution": {
     "iopub.execute_input": "2022-08-07T13:51:16.973050Z",
     "iopub.status.busy": "2022-08-07T13:51:16.972662Z",
     "iopub.status.idle": "2022-08-07T13:51:16.979828Z",
     "shell.execute_reply": "2022-08-07T13:51:16.979036Z"
    },
    "papermill": {
     "duration": 0.022296,
     "end_time": "2022-08-07T13:51:16.982319",
     "exception": false,
     "start_time": "2022-08-07T13:51:16.960023",
     "status": "completed"
    },
    "tags": []
   },
   "outputs": [
    {
     "name": "stdout",
     "output_type": "stream",
     "text": [
      "Mean squared error: 12823412.298126562\n",
      "Root Mean squared error: 3580.979237321345\n",
      "Mean Absolut error: 2446.1723690465064\n"
     ]
    }
   ],
   "source": [
    "##### Evaluation model using MSE and MAE , RMSE\n",
    "print ('Mean squared error:',metrics.mean_squared_error(y_test,y_pred))\n",
    "print ('Root Mean squared error:',np.sqrt(metrics.mean_squared_error(y_test,y_pred)))\n",
    "print ('Mean Absolut error:',metrics.mean_absolute_error(y_test,y_pred))"
   ]
  },
  {
   "cell_type": "code",
   "execution_count": 79,
   "id": "f79d3698",
   "metadata": {
    "execution": {
     "iopub.execute_input": "2022-08-07T13:51:17.007666Z",
     "iopub.status.busy": "2022-08-07T13:51:17.006816Z",
     "iopub.status.idle": "2022-08-07T13:51:17.204796Z",
     "shell.execute_reply": "2022-08-07T13:51:17.203952Z"
    },
    "papermill": {
     "duration": 0.213225,
     "end_time": "2022-08-07T13:51:17.207234",
     "exception": false,
     "start_time": "2022-08-07T13:51:16.994009",
     "status": "completed"
    },
    "tags": []
   },
   "outputs": [
    {
     "data": {
      "image/png": "[encoded data removed]",
      "text/plain": [
       "<Figure size 864x432 with 1 Axes>"
      ]
     },
     "metadata": {
      "needs_background": "light"
     },
     "output_type": "display_data"
    }
   ],
   "source": [
    "# Just plot actual and predicted values for more insights\n",
    "plt.figure(figsize=(12,6))\n",
    "plt.scatter(y_test,y_pred,color='r',linestyle='-')\n",
    "plt.show()"
   ]
  },
  {
   "cell_type": "code",
   "execution_count": 80,
   "id": "ecb1a3e3",
   "metadata": {
    "execution": {
     "iopub.execute_input": "2022-08-07T13:51:17.233025Z",
     "iopub.status.busy": "2022-08-07T13:51:17.231950Z",
     "iopub.status.idle": "2022-08-07T13:51:17.242240Z",
     "shell.execute_reply": "2022-08-07T13:51:17.241493Z"
    },
    "papermill": {
     "duration": 0.025432,
     "end_time": "2022-08-07T13:51:17.244453",
     "exception": false,
     "start_time": "2022-08-07T13:51:17.219021",
     "status": "completed"
    },
    "tags": []
   },
   "outputs": [
    {
     "data": {
      "text/plain": [
       "array([[1.        , 0.97824162],\n",
       "       [0.97824162, 1.        ]])"
      ]
     },
     "execution_count": 80,
     "metadata": {},
     "output_type": "execute_result"
    }
   ],
   "source": [
    "from numpy.lib.function_base import corrcoef\n",
    "f = corrcoef(data1.YearsExperience, data1.Salary)\n",
    "f"
   ]
  },
  {
   "cell_type": "markdown",
   "id": "8e6c5a84",
   "metadata": {
    "papermill": {
     "duration": 0.01134,
     "end_time": "2022-08-07T13:51:17.267600",
     "exception": false,
     "start_time": "2022-08-07T13:51:17.256260",
     "status": "completed"
    },
    "tags": []
   },
   "source": [
    "# conclusion: there is a correlation between the variables, strong correlation ....."
   ]
  }
 ],
 "metadata": {
  "kernelspec": {
   "display_name": "Python 3 (ipykernel)",
   "language": "python",
   "name": "python3"
  },
  "language_info": {
   "codemirror_mode": {
    "name": "ipython",
    "version": 3
   },
   "file_extension": ".py",
   "mimetype": "text/x-python",
   "name": "python",
   "nbconvert_exporter": "python",
   "pygments_lexer": "ipython3",
   "version": "3.9.12"
  },
  "papermill": {
   "default_parameters": {},
   "duration": 14.97507,
   "end_time": "2022-08-07T13:51:18.100959",
   "environment_variables": {},
   "exception": null,
   "input_path": "__notebook__.ipynb",
   "output_path": "__notebook__.ipynb",
   "parameters": {},
   "start_time": "2022-08-07T13:51:03.125889",
   "version": "2.3.4"
  }
 },
 "nbformat": 4,
 "nbformat_minor": 5
}
